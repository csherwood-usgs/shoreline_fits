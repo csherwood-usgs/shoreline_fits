{
 "cells": [
  {
   "cell_type": "code",
   "execution_count": 2,
   "id": "61450235-919c-45f7-8f2d-1983fd520a64",
   "metadata": {},
   "outputs": [
    {
     "data": {
      "text/plain": [
       "[<matplotlib.lines.Line2D at 0x28e719ffeb0>]"
      ]
     },
     "execution_count": 2,
     "metadata": {},
     "output_type": "execute_result"
    },
    {
     "data": {
      "image/png": "[encoded data removed]",
      "text/plain": [
       "<Figure size 640x480 with 1 Axes>"
      ]
     },
     "metadata": {},
     "output_type": "display_data"
    }
   ],
   "source": [
    "# Check Bayesian\n",
    "import pandas as pd\n",
    "import numpy as np\n",
    "import matplotlib.pyplot as plt\n",
    "import time\n",
    "from sklearn.linear_model import LinearRegression, RANSACRegressor, TheilSenRegressor\n",
    "from scipy import stats\n",
    "import statsmodels.api as sm\n",
    "import pymc as pm\n",
    "\n",
    "data_dir = 'C:/crs/proj/2025_shoreline_fits/'\n",
    "fn = 'Northshore_LT_intersects.csv'\n",
    "df = pd.read_csv(data_dir+fn)\n",
    "\n",
    "# Convert to datetime format\n",
    "df[\"date\"] = pd.to_datetime(df[\"ShorelineI\"], format=\"%m/%d/%Y\")\n",
    "\n",
    "# Function to convert datetime to decimal year\n",
    "def datetime_to_decimal_year(dt):\n",
    "    year = dt.year\n",
    "    start_of_year = pd.Timestamp(f\"{year}-01-01\")\n",
    "    end_of_year = pd.Timestamp(f\"{year+1}-01-01\")\n",
    "    decimal_year = year + (dt - start_of_year).total_seconds() / (end_of_year - start_of_year).total_seconds()\n",
    "    return decimal_year\n",
    "\n",
    "# Apply function to convert each date\n",
    "df[\"decimal_year\"] = df[\"date\"].apply(datetime_to_decimal_year)\n",
    "df\n",
    "\n",
    "# pick a transect\n",
    "tid = 2776\n",
    "tdf = df[df[\"TransectID\"] == tid]\n",
    "x = tdf['decimal_year'].values - 1970.\n",
    "y = tdf['Bias_Dista'].values\n",
    "yu = tdf['Bias_Uncer'].values\n",
    "plt.errorbar(x,y,yu)\n",
    "plt.plot(x, y, 'o')"
   ]
  },
  {
   "cell_type": "code",
   "execution_count": 8,
   "id": "fe336acc-4b72-4b54-926f-cc0064adc504",
   "metadata": {},
   "outputs": [
    {
     "name": "stdout",
     "output_type": "stream",
     "text": [
      "slope\n"
     ]
    },
    {
     "name": "stderr",
     "output_type": "stream",
     "text": [
      "Initializing NUTS using jitter+adapt_diag...\n",
      "Multiprocess sampling (4 chains in 4 jobs)\n",
      "NUTS: [slope, intercept, sigma]\n"
     ]
    },
    {
     "data": {
      "application/vnd.jupyter.widget-view+json": {
       "model_id": "a875d440cb094df0a855ccf42dd20536",
       "version_major": 2,
       "version_minor": 0
      },
      "text/plain": [
       "Output()"
      ]
     },
     "metadata": {},
     "output_type": "display_data"
    },
    {
     "data": {
      "text/html": [
       "<pre style=\"white-space:pre;overflow-x:auto;line-height:normal;font-family:Menlo,'DejaVu Sans Mono',consolas,'Courier New',monospace\"></pre>\n"
      ],
      "text/plain": []
     },
     "metadata": {},
     "output_type": "display_data"
    },
    {
     "name": "stderr",
     "output_type": "stream",
     "text": [
      "Sampling 4 chains for 1_000 tune and 2_000 draw iterations (4_000 + 8_000 draws total) took 56 seconds.\n"
     ]
    },
    {
     "ename": "NameError",
     "evalue": "name 'OLSslope_list' is not defined",
     "output_type": "error",
     "traceback": [
      "\u001b[1;31m---------------------------------------------------------------------------\u001b[0m",
      "\u001b[1;31mNameError\u001b[0m                                 Traceback (most recent call last)",
      "Cell \u001b[1;32mIn[8], line 50\u001b[0m\n\u001b[0;32m     48\u001b[0m \u001b[38;5;66;03m# Extract the slope's confidence interval\u001b[39;00m\n\u001b[0;32m     49\u001b[0m OLSslope_CI \u001b[38;5;241m=\u001b[39m OLSconf_int[\u001b[38;5;241m0\u001b[39m]  \u001b[38;5;66;03m# First row corresponds to the slope\u001b[39;00m\n\u001b[1;32m---> 50\u001b[0m \u001b[43mOLSslope_list\u001b[49m\u001b[38;5;241m.\u001b[39mappend( OLS_slope )\n\u001b[0;32m     51\u001b[0m OLSslope_CIlow_list\u001b[38;5;241m.\u001b[39mappend( OLSslope_CI[\u001b[38;5;241m0\u001b[39m] )\n\u001b[0;32m     52\u001b[0m OLSslope_CIhi_list\u001b[38;5;241m.\u001b[39mappend( OLSslope_CI[\u001b[38;5;241m1\u001b[39m] )\n",
      "\u001b[1;31mNameError\u001b[0m: name 'OLSslope_list' is not defined"
     ]
    }
   ],
   "source": [
    "# Generate synthetic data\n",
    "np.random.seed(42)\n",
    "\n",
    "# # Fit an ordinary least-squares model to the data\n",
    "# X = np.column_stack( (x, np.ones_like(x) ))\n",
    "# weights = 1./( yu**2 )\n",
    "\n",
    "# # Ordinary least-squares fit\n",
    "# OLSfit = sm.OLS(y, X).fit()\n",
    "# OLS_slope, OLS_intercept = OLSfit.params\n",
    "# OLS_pvalues = OLSfit.pvalues        \n",
    "# # Compute the 95% confidence interval for all parameters\n",
    "# OLSconf_int = OLSfit.conf_int(alpha=0.05)  # Default is 95% CI       \n",
    "# # Extract the slope's confidence interval\n",
    "# OLSslope_CI = OLSconf_int[0]  # First row corresponds to the slope\n",
    "# OLSslope_list.append( OLS_slope )\n",
    "# OLSslope_CIlow_list.append( OLSslope_CI[0] )\n",
    "# OLSslope_CIhi_list.append( OLSslope_CI[1] )\n",
    "# OLSr2_list.append( OLSfit.rsquared )\n",
    "\n",
    "# Define Bayesian Model\n",
    "with pm.Model() as model:\n",
    "    # Priors for slope and intercept\n",
    "    slope = pm.Normal(\"slope\", mu=0, sigma=10)\n",
    "    intercept = pm.Normal(\"intercept\", mu=0, sigma=10)\n",
    "    sigma = pm.HalfNormal(\"sigma\", sigma=5)\n",
    "\n",
    "    # Likelihood\n",
    "    y_obs = pm.Normal(\"y_obs\", mu=slope * x + intercept, sigma=sigma, observed=y)\n",
    "\n",
    "    # Sampling\n",
    "    trace = pm.sample(2000, return_inferencedata=True)\n",
    "\n",
    "# Extract posterior mean estimates\n",
    "slope_post = trace.posterior[\"slope\"].mean().values\n",
    "intercept_post = trace.posterior[\"intercept\"].mean().values\n",
    "\n",
    "X = np.column_stack( (x, np.ones_like(x) ))\n",
    "weights = 1./( yu**2 )\n",
    "\n",
    "# Ordinary least-squares fit\n",
    "OLSfit = sm.OLS(y, X).fit()\n",
    "OLS_slope, OLS_intercept = OLSfit.params\n",
    "OLS_pvalues = OLSfit.pvalues        \n",
    "# Compute the 95% confidence interval for all parameters\n",
    "OLSconf_int = OLSfit.conf_int(alpha=0.05)  # Default is 95% CI       \n",
    "# Extract the slope's confidence interval\n",
    "OLSslope_CI = OLSconf_int[0]  # First row corresponds to the slope\n",
    "OLSslope_list.append( OLS_slope )\n",
    "OLSslope_CIlow_list.append( OLSslope_CI[0] )\n",
    "OLSslope_CIhi_list.append( OLSslope_CI[1] )\n",
    "OLSr2_list.append( OLSfit.rsquared )\n",
    "\n",
    "# Plot result\n",
    "plt.errorbar(x,y,yu)\n",
    "plt.plot(x, y, 'o')\n",
    "plt.plot(x, slope_post * x + intercept_post, color=\"r\", label=\"Bayesian Fit\")\n",
    "plt.legend()"
   ]
  },
  {
   "cell_type": "code",
   "execution_count": 5,
   "id": "169bcbf6-c4a5-4be0-bf27-0f808a3b0670",
   "metadata": {},
   "outputs": [
    {
     "name": "stdout",
     "output_type": "stream",
     "text": [
      "     transNum      dates      shore\n",
      "0        2770   8.496478  -6.815000\n",
      "1        2770  24.748694 -18.461837\n",
      "2        2770  30.747449  -9.571891\n",
      "3        2770  38.290382  -4.346098\n",
      "4        2771   8.496478  -2.921057\n",
      "..        ...        ...        ...\n",
      "207      2867  38.290382 -15.195135\n",
      "208      2868   8.496478   0.760713\n",
      "209      2868  24.748694  -1.023978\n",
      "210      2868  30.747449  -8.234798\n",
      "211      2868  38.290382 -14.466233\n",
      "\n",
      "[212 rows x 3 columns]\n",
      "    transNum  prior_a_mean  prior_a_std  prior_b_mean  prior_b_std  \\\n",
      "0       2770     -1.123585    11.382507     -0.264250     0.081733   \n",
      "1       2771     -1.348423     5.703849     -0.199141     0.040957   \n",
      "2       2772     -7.738491     5.090858     -0.030238     0.067619   \n",
      "3       2773     -5.237634     7.382589     -0.180563     0.053011   \n",
      "4       2774           NaN          NaN           NaN          NaN   \n",
      "..       ...           ...          ...           ...          ...   \n",
      "90      2864    -17.645140     7.097929     -0.011905     0.050512   \n",
      "91      2865    -10.647362     8.143819      0.033897     0.057955   \n",
      "92      2866    -10.625348     8.418246      0.057158     0.059908   \n",
      "93      2867     -9.352199     8.560026      0.067697     0.060917   \n",
      "94      2868     -8.341753     8.467716      0.055348     0.060260   \n",
      "\n",
      "    prior_sigma  \n",
      "0     18.267028  \n",
      "1     12.462040  \n",
      "2      4.665832  \n",
      "3     12.280364  \n",
      "4           NaN  \n",
      "..          ...  \n",
      "90     6.665797  \n",
      "91     7.801772  \n",
      "92     8.370920  \n",
      "93     8.684850  \n",
      "94     8.384554  \n",
      "\n",
      "[95 rows x 6 columns]\n"
     ]
    }
   ],
   "source": [
    "df_data = pd.read_csv(\"C:/crs/proj/2025_shoreline_fits/RcodeForChris/dataForBLR_MAns2769_2869.csv\")\n",
    "df_prior= pd.read_csv(\"C:/crs/proj/2025_shoreline_fits/RcodeForChris/priorsForBLR_MAns2769_2869.csv\")\n",
    "print(df_data)\n",
    "print(df_prior)"
   ]
  }
 ],
 "metadata": {
  "kernelspec": {
   "display_name": "Python 3 (ipykernel)",
   "language": "python",
   "name": "python3"
  },
  "language_info": {
   "codemirror_mode": {
    "name": "ipython",
    "version": 3
   },
   "file_extension": ".py",
   "mimetype": "text/x-python",
   "name": "python",
   "nbconvert_exporter": "python",
   "pygments_lexer": "ipython3",
   "version": "3.10.15"
  }
 },
 "nbformat": 4,
 "nbformat_minor": 5
}
